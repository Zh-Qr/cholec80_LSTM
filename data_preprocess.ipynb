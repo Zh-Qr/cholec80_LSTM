{
 "cells": [
  {
   "cell_type": "markdown",
   "metadata": {},
   "source": [
    "# 数据预处理"
   ]
  },
  {
   "cell_type": "code",
   "execution_count": 1,
   "metadata": {},
   "outputs": [
    {
     "name": "stdout",
     "output_type": "stream",
     "text": [
      "env is done\n"
     ]
    }
   ],
   "source": [
    "import os\n",
    "import pandas as pd\n",
    "import cv2\n",
    "\n",
    "print(\"env is done\")"
   ]
  },
  {
   "cell_type": "markdown",
   "metadata": {},
   "source": [
    "## 提取视频文件为帧图片（每秒截取一帧）"
   ]
  },
  {
   "cell_type": "code",
   "execution_count": null,
   "metadata": {},
   "outputs": [],
   "source": [
    "ROOT_DIR = \"autodl-tmp\"\n",
    "save_dir = './frames/' \n",
    "VIDEO_NAMES = os.listdir(os.path.join(ROOT_DIR, \"videos\"))\n",
    "VIDEO_NAMES = sorted([x for x in VIDEO_NAMES if 'mp4' in x])\n",
    "\n",
    "FRAME_NUMBERS = 0\n",
    "\n",
    "for video_name in VIDEO_NAMES:\n",
    "    path = os.path.join(ROOT_DIR, \"videos\", video_name)\n",
    "    save_dirs = save_dir + video_name.replace('.mp4', '') +'/'\n",
    "    save_dirs = os.path.join(ROOT_DIR, save_dirs)\n",
    "    if os.path.exists(save_dirs):\n",
    "        continue\n",
    "    print(video_name)\n",
    "    vidcap = cv2.VideoCapture(path)\n",
    "    fps = vidcap.get(cv2.CAP_PROP_FPS)\n",
    "    print(\"fps\", fps)\n",
    "    if fps != 25:\n",
    "        print(video_name, 'not at 25fps', fps)\n",
    "    success=True\n",
    "    count=0\n",
    "    \n",
    "    os.makedirs(save_dirs, exist_ok=True)\n",
    "    while success is True:\n",
    "        success,image = vidcap.read()\n",
    "        if success:\n",
    "            if count % fps == 0:\n",
    "                cv2.imwrite(save_dirs + str(int(count//fps)).zfill(5) + '.png', image)\n",
    "            count+=1\n",
    "    vidcap.release()\n",
    "    cv2.destroyAllWindows()\n",
    "    print(count)\n",
    "    FRAME_NUMBERS += count\n",
    "\n",
    "print('Total Frams', FRAME_NUMBERS)"
   ]
  },
  {
   "cell_type": "markdown",
   "metadata": {},
   "source": [
    "## 处理标注文件"
   ]
  },
  {
   "cell_type": "code",
   "execution_count": null,
   "metadata": {},
   "outputs": [],
   "source": [
    "# 路径设置\n",
    "path_annot = 'autodl-tmp/phase_annotations'\n",
    "out_paths = 'autodl-tmp/annotations'\n",
    "\n",
    "# 阶段名称到整数的映射\n",
    "phase_to_int = {\n",
    "    \"Preparation\": 0,\n",
    "    \"CalotTriangleDissection\": 1,\n",
    "    \"ClippingCutting\": 2,\n",
    "    \"GallbladderDissection\": 3,\n",
    "    \"GallbladderPackaging\": 4,\n",
    "    \"CleaningCoagulation\": 5,\n",
    "    \"GallbladderRetraction\": 6\n",
    "}\n",
    "\n",
    "def process_annotations(input_file, output_file, step=25):\n",
    "    # 读取标注文件\n",
    "    annotations = pd.read_csv(input_file, delim_whitespace=True, header=0)\n",
    "    # 选择每隔25行的数据，并立即创建一个副本避免SettingWithCopyWarning\n",
    "    selected_annotations = annotations.iloc[::step].copy()\n",
    "    # 将阶段描述转换为整数\n",
    "    selected_annotations['Phase'] = selected_annotations['Phase'].map(phase_to_int)\n",
    "    # 保存到新的文本文件\n",
    "    selected_annotations['Phase'].to_csv(output_file, index=False, header=False)\n",
    "\n",
    "# 确保输出目录存在\n",
    "os.makedirs(out_paths, exist_ok=True)\n",
    "\n",
    "# 处理所有文件\n",
    "input_files = os.listdir(path_annot)\n",
    "for input_file in input_files:\n",
    "    file_path = os.path.join(path_annot, input_file)\n",
    "    # 修改输出文件名，移除 \"-phase\" 部分\n",
    "    output_filename = input_file.replace('-phase.txt', '.txt')\n",
    "    out_path = os.path.join(out_paths, output_filename)\n",
    "    process_annotations(file_path, out_path)\n",
    "    print(f\"Processed: {output_filename}\")"
   ]
  }
 ],
 "metadata": {
  "kernelspec": {
   "display_name": "pytorch",
   "language": "python",
   "name": "python3"
  },
  "language_info": {
   "codemirror_mode": {
    "name": "ipython",
    "version": 3
   },
   "file_extension": ".py",
   "mimetype": "text/x-python",
   "name": "python",
   "nbconvert_exporter": "python",
   "pygments_lexer": "ipython3",
   "version": "3.8.18"
  }
 },
 "nbformat": 4,
 "nbformat_minor": 2
}
