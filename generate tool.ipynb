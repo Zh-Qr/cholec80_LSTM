{
 "cells": [
  {
   "cell_type": "markdown",
   "metadata": {},
   "source": [
    "# 生成带噪声的tool标记"
   ]
  },
  {
   "cell_type": "code",
   "execution_count": 14,
   "metadata": {
    "tags": []
   },
   "outputs": [
    {
     "name": "stdout",
     "output_type": "stream",
     "text": [
      "选择的图片路径： ../autodl-tmp/frames/video02/00964.png\n",
      "\n",
      "图片 ../autodl-tmp/frames/video02/00964.png 的预测结果：\n",
      "工具 1: 1\n",
      "工具 2: 0\n",
      "工具 3: 0\n",
      "工具 4: 0\n",
      "工具 5: 0\n",
      "工具 6: 0\n",
      "工具 7: 0\n"
     ]
    }
   ],
   "source": [
    "import torch\n",
    "import torch.nn as nn\n",
    "from torchvision import models, transforms\n",
    "from PIL import Image\n",
    "import os\n",
    "\n",
    "# 设置设备\n",
    "device = torch.device(\"cuda\" if torch.cuda.is_available() else \"cpu\")\n",
    "\n",
    "# 定义类别数\n",
    "num_classes = 7\n",
    "\n",
    "# 构建模型：使用预训练的 ResNet50，并将最后一层替换为适合多标签分类的全连接层\n",
    "model = models.resnet50(pretrained=True)\n",
    "in_features = model.fc.in_features\n",
    "model.fc = nn.Linear(in_features, num_classes)\n",
    "model = model.to(device)\n",
    "\n",
    "# 加载模型权重（请确保路径与实际权重文件一致，这里假设保存为 weight/tool detection.pth）\n",
    "checkpoint_path = 'weight/tool_detection2.pth'\n",
    "state_dict = torch.load(checkpoint_path)\n",
    "model.load_state_dict(state_dict, strict=False)\n",
    "model.eval()\n",
    "\n",
    "# 定义测试时的预处理变换（需与训练/测试时的变换保持一致）\n",
    "test_transform = transforms.Compose([\n",
    "    transforms.Resize((224, 224)),\n",
    "    transforms.ToTensor(),\n",
    "    transforms.Normalize(mean=[0.485, 0.456, 0.406],\n",
    "                         std=[0.229, 0.224, 0.225])\n",
    "])\n",
    "\n",
    "# 定义测试数据相关路径（需根据你的文件结构调整）\n",
    "frame_path = '../autodl-tmp/frames'\n",
    "test_splite_dir = 'splite/test_videos.txt'\n",
    "\n",
    "# 加载测试视频列表\n",
    "with open(test_splite_dir, 'r', encoding='utf-8') as f:\n",
    "    test_videos = [line.strip() for line in f if line.strip()]\n",
    "\n",
    "if not test_videos:\n",
    "    print(\"测试视频列表为空，请检查文件：\", test_splite_dir)\n",
    "    exit()\n",
    "\n",
    "# 选择测试视频中的第一个视频\n",
    "test_video = test_videos[0]\n",
    "video_frame_dir = os.path.join(frame_path, test_video)\n",
    "if not os.path.exists(video_frame_dir):\n",
    "    print(f\"视频帧文件夹不存在：{video_frame_dir}\")\n",
    "    exit()\n",
    "\n",
    "# 获取视频帧列表并按文件名排序，按照数据集构造逻辑跳过第一个图片\n",
    "img_list = sorted(os.listdir(video_frame_dir))[1:]\n",
    "if not img_list:\n",
    "    print(f\"在视频文件夹 {video_frame_dir} 中未找到图像文件。\")\n",
    "    exit()\n",
    "\n",
    "# 选择其中一张图片（这里选取列表中的第一张）\n",
    "img_path = os.path.join(video_frame_dir, img_list[963])\n",
    "print(\"选择的图片路径：\", img_path)\n",
    "\n",
    "# 打开并预处理图像\n",
    "image = Image.open(img_path).convert(\"RGB\")\n",
    "image_tensor = test_transform(image).unsqueeze(0)  # 增加 batch 维度\n",
    "\n",
    "# 模型预测\n",
    "with torch.no_grad():\n",
    "    outputs = model(image_tensor.to(device))\n",
    "    # 使用 sigmoid 激活并以 0.5 为阈值转换为 0/1\n",
    "    probabilities = torch.sigmoid(outputs)\n",
    "    predictions = (probabilities > 0.5).int().cpu().numpy()[0]\n",
    "\n",
    "# 输出预测结果\n",
    "print(f\"\\n图片 {img_path} 的预测结果：\")\n",
    "for i, pred in enumerate(predictions):\n",
    "    print(f\"工具 {i+1}: {pred}\")\n"
   ]
  },
  {
   "cell_type": "code",
   "execution_count": null,
   "metadata": {},
   "outputs": [],
   "source": []
  }
 ],
 "metadata": {
  "kernelspec": {
   "display_name": "Python 3 (ipykernel)",
   "language": "python",
   "name": "python3"
  },
  "language_info": {
   "codemirror_mode": {
    "name": "ipython",
    "version": 3
   },
   "file_extension": ".py",
   "mimetype": "text/x-python",
   "name": "python",
   "nbconvert_exporter": "python",
   "pygments_lexer": "ipython3",
   "version": "3.8.10"
  }
 },
 "nbformat": 4,
 "nbformat_minor": 4
}
